{
  "nbformat": 4,
  "nbformat_minor": 0,
  "metadata": {
    "colab": {
      "provenance": [],
      "authorship_tag": "ABX9TyObNvCEHO0TYFH6iQKDTVTy",
      "include_colab_link": true
    },
    "kernelspec": {
      "name": "python3",
      "display_name": "Python 3"
    },
    "language_info": {
      "name": "python"
    }
  },
  "cells": [
    {
      "cell_type": "markdown",
      "metadata": {
        "id": "view-in-github",
        "colab_type": "text"
      },
      "source": [
        "<a href=\"https://colab.research.google.com/github/tipiorgup/Slatm_testing/blob/main/slatm.ipynb\" target=\"_parent\"><img src=\"https://colab.research.google.com/assets/colab-badge.svg\" alt=\"Open In Colab\"/></a>"
      ]
    },
    {
      "cell_type": "code",
      "execution_count": null,
      "metadata": {
        "colab": {
          "base_uri": "https://localhost:8080/"
        },
        "id": "TZ-NqK4O2zJ7",
        "outputId": "fe26a678-bdb2-4d25-a576-536c2a05d89a"
      },
      "outputs": [
        {
          "output_type": "stream",
          "name": "stdout",
          "text": [
            "Cloning into 'Slatm_testing'...\n",
            "remote: Enumerating objects: 6, done.\u001b[K\n",
            "remote: Counting objects: 100% (6/6), done.\u001b[K\n",
            "remote: Compressing objects: 100% (4/4), done.\u001b[K\n",
            "remote: Total 6 (delta 0), reused 0 (delta 0), pack-reused 0\u001b[K\n",
            "Receiving objects: 100% (6/6), 10.31 KiB | 10.31 MiB/s, done.\n"
          ]
        }
      ],
      "source": [
        "!pip install qml\n",
        "!git clone https://github.com/tipiorgup/Slatm_testing.git"
      ]
    },
    {
      "cell_type": "code",
      "source": [
        "import os\n",
        "import numpy as np\n",
        "import pickle\n",
        "import qml\n",
        "from qml.representations import generate_slatm"
      ],
      "metadata": {
        "id": "T0hngKvJ3NPg"
      },
      "execution_count": null,
      "outputs": []
    },
    {
      "cell_type": "code",
      "source": [
        "with open('poslist.pkl', 'rb') as f:\n",
        "    poslist = pickle.load(f)"
      ],
      "metadata": {
        "id": "8RfuHWiryhCU"
      },
      "execution_count": null,
      "outputs": []
    },
    {
      "cell_type": "code",
      "source": [
        "array=np.array(poslist)\n",
        "traj=array.reshape(-1,3)\n",
        "\n",
        "n_atoms=len(traj)"
      ],
      "metadata": {
        "id": "NkX48xmt3-O8"
      },
      "execution_count": null,
      "outputs": []
    },
    {
      "cell_type": "code",
      "source": [
        "charges=np.ones(n_atoms)"
      ],
      "metadata": {
        "id": "Awwfxw864BUz"
      },
      "execution_count": null,
      "outputs": []
    },
    {
      "cell_type": "code",
      "source": [
        "mbtypes=[[1.0], [1.0, 1.0], [1.0, 1.0, 1.0]]"
      ],
      "metadata": {
        "id": "g_V9P_f347EH"
      },
      "execution_count": null,
      "outputs": []
    },
    {
      "cell_type": "code",
      "source": [
        "vector=generate_slatm(traj, charges,mbtypes=mbtypes,rcut=2)"
      ],
      "metadata": {
        "id": "emX6bf_A4Mbu",
        "outputId": "d04083dd-cafe-4f58-ff60-698a96670d12",
        "colab": {
          "base_uri": "https://localhost:8080/",
          "height": 145
        }
      },
      "execution_count": null,
      "outputs": [
        {
          "output_type": "error",
          "ename": "NameError",
          "evalue": "name 'generate_slatm' is not defined",
          "traceback": [
            "\u001b[0;31m---------------------------------------------------------------------------\u001b[0m",
            "\u001b[0;31mNameError\u001b[0m                                 Traceback (most recent call last)",
            "\u001b[0;32m<ipython-input-7-c0a8bb3649ed>\u001b[0m in \u001b[0;36m<cell line: 1>\u001b[0;34m()\u001b[0m\n\u001b[0;32m----> 1\u001b[0;31m \u001b[0mvector\u001b[0m\u001b[0;34m=\u001b[0m\u001b[0mgenerate_slatm\u001b[0m\u001b[0;34m(\u001b[0m\u001b[0mtraj\u001b[0m\u001b[0;34m,\u001b[0m \u001b[0mcharges\u001b[0m\u001b[0;34m,\u001b[0m\u001b[0mmbtypes\u001b[0m\u001b[0;34m=\u001b[0m\u001b[0mmbtypes\u001b[0m\u001b[0;34m,\u001b[0m\u001b[0mrcut\u001b[0m\u001b[0;34m=\u001b[0m\u001b[0;36m2\u001b[0m\u001b[0;34m)\u001b[0m\u001b[0;34m\u001b[0m\u001b[0;34m\u001b[0m\u001b[0m\n\u001b[0m",
            "\u001b[0;31mNameError\u001b[0m: name 'generate_slatm' is not defined"
          ]
        }
      ]
    },
    {
      "cell_type": "code",
      "source": [
        "vector"
      ],
      "metadata": {
        "id": "rURHpvDs7TvA"
      },
      "execution_count": null,
      "outputs": []
    },
    {
      "cell_type": "code",
      "source": [],
      "metadata": {
        "id": "DlfEQwav7Ubj"
      },
      "execution_count": null,
      "outputs": []
    }
  ]
}